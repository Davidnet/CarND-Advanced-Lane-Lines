{
 "cells": [
  {
   "cell_type": "code",
   "execution_count": 1,
   "metadata": {},
   "outputs": [],
   "source": [
    "%matplotlib inline\n",
    "import os\n",
    "import pickle\n",
    "\n",
    "import numpy\n",
    "import matplotlib.pyplot as plt\n",
    "import cv2\n",
    "\n",
    "from scipy.signal import find_peaks_cwt"
   ]
  },
  {
   "cell_type": "code",
   "execution_count": 2,
   "metadata": {},
   "outputs": [],
   "source": [
    "def histogram_base_points(lanes, min_peak = 25.0):\n",
    "    \"\"\"Uses histogram to find possible base points for lane lines\"\"\"\n",
    "    hist = np.sum(lanes[int(lanes.shape[0]*0.5):,:], axis=0)\n",
    "\n",
    "    widths = [100]\n",
    "    idx = find_peaks_cwt(hist, widths, max_distances=widths, noise_perc=50)\n",
    "    if len(idx) < 2:\n",
    "        return None\n",
    "\n",
    "    # Avoid edges\n",
    "    idx = [i for i in idx if i > lanes.shape[1]*0.1\n",
    "                             and i < lanes.shape[1]*0.9\n",
    "                             and max(hist[i-50:i+50]) > min_peak]\n",
    "\n",
    "    return [min(idx), max(idx)]\n"
   ]
  },
  {
   "cell_type": "code",
   "execution_count": 3,
   "metadata": {},
   "outputs": [],
   "source": [
    "def sliding_window(image, left_lane, right_lane, base_pts, num_bands = 10, window_width = 0.2):\n",
    "    \"\"\"Uses histogram and sliding window to detect lanes from scratch\"\"\"\n",
    "\n",
    "    height = image.shape[0]\n",
    "    band_height = int(1./num_bands * height)   # Divide image into horizontal bands\n",
    "    band_width = int(window_width*image.shape[1])\n",
    "\n",
    "    l_x, l_y, r_x, r_y = [], [], [], []\n",
    "\n",
    "    base_left, base_right = base_pts\n",
    "\n",
    "    idx_left, idx_right = base_pts\n",
    "    for i in reversed(range(num_bands)):\n",
    "        w_left = image[i*band_height:(i+1)*band_height,base_left-band_width//2:base_left+band_width//2]\n",
    "        w_right = image[i*band_height:(i+1)*band_height,base_right-band_width//2:base_right+band_width//2]\n",
    "\n",
    "        left_y_pt, left_x_pt = np.nonzero(w_left)\n",
    "        right_y_pt, right_x_pt = np.nonzero(w_right)\n",
    "\n",
    "        l_x.extend(left_x_pt + base_left-band_width//2)\n",
    "        l_y.extend(left_y_pt + i*band_height)\n",
    "        r_x.extend(right_x_pt+ base_right-band_width//2)\n",
    "        r_y.extend(right_y_pt+ i*band_height)\n",
    "\n",
    "        # Find 'x' with maximum nonzero elements as baseline for next window\n",
    "        s_left = np.sum(w_left, axis=0)\n",
    "        s_right = np.sum(w_right, axis=0)\n",
    "        if np.any(s_left > 0):\n",
    "            base_left = np.argmax(s_left) + base_left-band_width//2\n",
    "        if np.any(s_right > 0):\n",
    "            base_right = np.argmax(s_right) + base_right-band_width//2\n",
    "\n",
    "    l_x, l_y = reject_outliers(l_x, l_y)\n",
    "    r_x, r_y = reject_outliers(r_x, r_y)\n",
    "\n",
    "    left_lane.add_lane_pixels(l_x, l_y)\n",
    "    right_lane.add_lane_pixels(r_x, r_y)\n",
    "\n",
    "    return left_lane, right_lane\n"
   ]
  },
  {
   "cell_type": "code",
   "execution_count": 4,
   "metadata": {},
   "outputs": [],
   "source": [
    "def reject_outliers(x_list, y_list):\n",
    "    if not x_list or not y_list:\n",
    "        return x_list, y_list\n",
    "    mu_x, mu_y = np.mean(x_list), np.mean(y_list)\n",
    "    sig_x, sig_y = np.std(x_list), np.std(y_list)\n",
    "    new_x, new_y = zip(*[(x, y) for (x,y) in zip(x_list, y_list)\n",
    "                                 if abs(x - mu_x) < 2*sig_x and abs(y - mu_y) < 2*sig_y])"
   ]
  },
  {
   "cell_type": "code",
   "execution_count": 5,
   "metadata": {},
   "outputs": [],
   "source": [
    "def histogram_base_points(lanes, min_peak = 25.0):\n",
    "    \"\"\"Uses histogram to find possible base points for lane lines\"\"\"\n",
    "    hist = np.sum(lanes[int(lanes.shape[0]*0.5):,:], axis=0)\n",
    "\n",
    "    widths = [100]\n",
    "    idx = find_peaks_cwt(hist, widths, max_distances=widths, noise_perc=50)\n",
    "    if len(idx) < 2:\n",
    "        return None\n",
    "\n",
    "    # Avoid edges\n",
    "    idx = [i for i in idx if i > lanes.shape[1]*0.1\n",
    "                             and i < lanes.shape[1]*0.9\n",
    "                             and max(hist[i-50:i+50]) > min_peak]\n",
    "\n",
    "    return [min(idx), max(idx)]"
   ]
  },
  {
   "cell_type": "code",
   "execution_count": null,
   "metadata": {},
   "outputs": [],
   "source": []
  }
 ],
 "metadata": {
  "kernelspec": {
   "display_name": "Python 3",
   "language": "python",
   "name": "python3"
  },
  "language_info": {
   "codemirror_mode": {
    "name": "ipython",
    "version": 3
   },
   "file_extension": ".py",
   "mimetype": "text/x-python",
   "name": "python",
   "nbconvert_exporter": "python",
   "pygments_lexer": "ipython3",
   "version": "3.6.8"
  }
 },
 "nbformat": 4,
 "nbformat_minor": 2
}
